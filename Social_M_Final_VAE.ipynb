{
  "nbformat": 4,
  "nbformat_minor": 0,
  "metadata": {
    "colab": {
      "name": "Social_M_Final_VAE.ipynb",
      "provenance": [],
      "authorship_tag": "ABX9TyN03m9bWQpGhtMXZn9vXEkd",
      "include_colab_link": true
    },
    "kernelspec": {
      "name": "python3",
      "display_name": "Python 3"
    },
    "language_info": {
      "name": "python"
    },
    "accelerator": "GPU",
    "gpuClass": "standard"
  },
  "cells": [
    {
      "cell_type": "markdown",
      "metadata": {
        "id": "view-in-github",
        "colab_type": "text"
      },
      "source": [
        "<a href=\"https://colab.research.google.com/github/jeremy10230004/Social_Midea_Class/blob/main/Social_M_Final_VAE.ipynb\" target=\"_parent\"><img src=\"https://colab.research.google.com/assets/colab-badge.svg\" alt=\"Open In Colab\"/></a>"
      ]
    },
    {
      "cell_type": "code",
      "execution_count": 26,
      "metadata": {
        "colab": {
          "base_uri": "https://localhost:8080/"
        },
        "id": "w_AqUV9kjwNR",
        "outputId": "0def4540-8894-4b93-d47e-c85cb2a05bd3"
      },
      "outputs": [
        {
          "output_type": "stream",
          "name": "stdout",
          "text": [
            "(60000, 28, 28)\n",
            "(10000, 28, 28)\n"
          ]
        }
      ],
      "source": [
        "import tensorflow as tf\n",
        "from tensorflow import keras\n",
        "from tensorflow.keras.datasets import fashion_mnist\n",
        "import numpy as np\n",
        "\n",
        "(x_train, y_train), (x_test, y_test) = fashion_mnist.load_data()\n",
        "x_train = x_train.astype('float32') / 255.\n",
        "x_test = x_test.astype('float32') / 255.\n",
        "\n",
        "\n",
        "print (x_train.shape)\n",
        "print (x_test.shape)"
      ]
    },
    {
      "cell_type": "code",
      "source": [
        "from matplotlib import pyplot as plt\n",
        "classes = {\n",
        "    0:\"T-shirt/top\",\n",
        "    1: \"Trouser\",\n",
        "    2: \"Pullover\",\n",
        "    3: \"Dress\",\n",
        "    4: \"Coat\",\n",
        "    5: \"Sandal\",\n",
        "    6: \"Shirt\",\n",
        "    7: \"Sneaker\",\n",
        "    8: \"Bag\",\n",
        "    9: \"Ankle boot\", \n",
        "}\n",
        "n = 6\n",
        "plt.figure(figsize=(20, 4))\n",
        "for i in range(n):\n",
        "    # display original\n",
        "    ax = plt.subplot(1, n, i + 1)\n",
        "    plt.imshow(x_test[i])\n",
        "    plt.title(classes[y_test[i]])\n",
        "    plt.gray()\n",
        "    ax.get_xaxis().set_visible(False)\n",
        "    ax.get_yaxis().set_visible(False)\n",
        "\n",
        "plt.show()\n",
        "# plt.savefig(\"TrainingSet.png\")"
      ],
      "metadata": {
        "colab": {
          "base_uri": "https://localhost:8080/",
          "height": 210
        },
        "id": "K7_YLBDZl5GP",
        "outputId": "de7c0815-5062-40a4-8ca5-150ae44ce104"
      },
      "execution_count": 27,
      "outputs": [
        {
          "output_type": "display_data",
          "data": {
            "text/plain": [
              "<Figure size 1440x288 with 6 Axes>"
            ],
            "image/png": "[encoded data removed]"
          },
          "metadata": {
            "needs_background": "light"
          }
        }
      ]
    },
    {
      "cell_type": "code",
      "source": [
        "from tensorflow.keras.layers import Flatten, Conv2D, Dropout, MaxPooling2D, UpSampling2D, Input, Dense, Reshape\n",
        "from tensorflow.keras import Model\n",
        "\n",
        "class Sampling(tf.keras.layers.Layer):\n",
        "    def call(self, inputs):\n",
        "        z_mean, z_log_var = inputs\n",
        "        batch = tf.shape(z_mean)[0]\n",
        "        dim = tf.shape(z_mean)[1]\n",
        "        epsilon = tf.keras.backend.random_normal(shape=(batch, dim))\n",
        "        return z_mean + tf.exp(0.5 * z_log_var) * epsilon\n",
        "\n",
        "class VAE(keras.Model):\n",
        "    def __init__(self, encoder, decoder, **kwargs):\n",
        "        super(VAE, self).__init__(**kwargs)\n",
        "        self.encoder = encoder\n",
        "        self.decoder = decoder\n",
        "        self.total_loss_tracker = keras.metrics.Mean(name=\"total_loss\")\n",
        "        self.reconstruction_loss_tracker = keras.metrics.Mean(\n",
        "            name=\"reconstruction_loss\"\n",
        "        )\n",
        "        self.kl_loss_tracker = keras.metrics.Mean(name=\"kl_loss\")\n",
        "\n",
        "    @property\n",
        "    def metrics(self):\n",
        "        return [\n",
        "            self.total_loss_tracker,\n",
        "            self.reconstruction_loss_tracker,\n",
        "            self.kl_loss_tracker,\n",
        "        ]\n",
        "\n",
        "    def train_step(self, data):\n",
        "        with tf.GradientTape() as tape:\n",
        "            x = data\n",
        "            y = data\n",
        "            z_mean, z_log_var, z = self.encoder(x)\n",
        "            reconstruction = self.decoder(z)\n",
        "            reconstruction_loss = tf.reduce_mean(\n",
        "                tf.reduce_sum(\n",
        "                    keras.losses.binary_crossentropy(y, reconstruction), axis=(1, 2)\n",
        "                )\n",
        "            )\n",
        "            kl_loss = -0.5 * (1 + z_log_var - tf.square(z_mean) - tf.exp(z_log_var))\n",
        "            kl_loss = tf.reduce_mean(tf.reduce_sum(kl_loss, axis=1))\n",
        "            total_loss = reconstruction_loss + kl_loss\n",
        "        grads = tape.gradient(total_loss, self.trainable_weights)\n",
        "        self.optimizer.apply_gradients(zip(grads, self.trainable_weights))\n",
        "        self.total_loss_tracker.update_state(total_loss)\n",
        "        self.reconstruction_loss_tracker.update_state(reconstruction_loss)\n",
        "        self.kl_loss_tracker.update_state(kl_loss)\n",
        "        return {\n",
        "            \"loss\": self.total_loss_tracker.result(),\n",
        "            \"reconstruction_loss\": self.reconstruction_loss_tracker.result(),\n",
        "            \"kl_loss\": self.kl_loss_tracker.result(),\n",
        "        }\n",
        "\n",
        "    def call(self, input_x):\n",
        "        de_input = self.encoder.predict(input_x)\n",
        "        ans = self.decoder.predict(de_input[2])  # [2]是z [0]是mean\n",
        "        return ans\n"
      ],
      "metadata": {
        "id": "gIsT4PGvmFAK"
      },
      "execution_count": 16,
      "outputs": []
    },
    {
      "cell_type": "code",
      "source": [
        "x_train = np.expand_dims(x_train, 3)\n",
        "x_test = np.expand_dims(x_test, 3)\n",
        "\n",
        "input_img = Input(shape=(28, 28, 1))\n",
        "\n",
        "x = Conv2D(16, (3, 3), activation='relu', padding='same')(input_img)\n",
        "x = MaxPooling2D((2, 2), padding='same')(x)\n",
        "x = Conv2D(8, (3, 3), activation='relu', padding='same')(x)\n",
        "x = MaxPooling2D((2, 2), padding='same')(x)\n",
        "x = Conv2D(8, (3, 3), activation='relu', padding='same')(x)\n",
        "x = MaxPooling2D((2, 2), padding='same')(x)\n",
        "f = Flatten()(x)\n",
        "c = Dense(128, activation='sigmoid')(f)\n",
        "\n",
        "latent_dim = 128\n",
        "z_mean = Dense(latent_dim, name=\"z_mean\")(c)\n",
        "z_log_var = Dense(latent_dim, name=\"z_log_var\")(c)\n",
        "z = Sampling()([z_mean, z_log_var])\n",
        "\n",
        "encoder = keras.Model(inputs=input_img, outputs=[z_mean, z_log_var, z], name=\"encoder\")\n",
        "encoder.compile(optimizer=keras.optimizers.Adam())\n",
        "encoder.summary()\n",
        "\n",
        "de_input = keras.Input(shape=(latent_dim))\n",
        "r = Reshape((4, 4, 8))(de_input)\n",
        "x = Conv2D(8, (3, 3), activation='relu', padding='same')(r)\n",
        "x = UpSampling2D((2, 2))(x)\n",
        "x = Conv2D(8, (3, 3), activation='relu', padding='same')(x)\n",
        "x = UpSampling2D((2, 2))(x)\n",
        "x = Conv2D(16, (3, 3), activation='relu')(x)\n",
        "x = UpSampling2D((2, 2))(x)\n",
        "decoded = Conv2D(1, (3, 3), activation='sigmoid', padding='same')(x)\n",
        "\n",
        "decoder = keras.Model(de_input, decoded, name=\"decoder\")\n",
        "decoder.compile(optimizer=keras.optimizers.Adam())\n",
        "decoder.summary()\n",
        "\n",
        "vae = VAE(encoder, decoder)\n",
        "vae.compile(optimizer=keras.optimizers.Adam())\n",
        "vae.fit(x_train, epochs=50, verbose=1, batch_size=128)\n"
      ],
      "metadata": {
        "colab": {
          "base_uri": "https://localhost:8080/"
        },
        "id": "sCJ-wlkml6-m",
        "outputId": "fca22fb7-4bd4-4087-b08e-b94c5b23bfe9"
      },
      "execution_count": 28,
      "outputs": [
        {
          "output_type": "stream",
          "name": "stdout",
          "text": [
            "Model: \"encoder\"\n",
            "__________________________________________________________________________________________________\n",
            " Layer (type)                   Output Shape         Param #     Connected to                     \n",
            "==================================================================================================\n",
            " input_20 (InputLayer)          [(None, 28, 28, 1)]  0           []                               \n",
            "                                                                                                  \n",
            " conv2d_51 (Conv2D)             (None, 28, 28, 16)   160         ['input_20[0][0]']               \n",
            "                                                                                                  \n",
            " max_pooling2d_33 (MaxPooling2D  (None, 14, 14, 16)  0           ['conv2d_51[0][0]']              \n",
            " )                                                                                                \n",
            "                                                                                                  \n",
            " conv2d_52 (Conv2D)             (None, 14, 14, 8)    1160        ['max_pooling2d_33[0][0]']       \n",
            "                                                                                                  \n",
            " max_pooling2d_34 (MaxPooling2D  (None, 7, 7, 8)     0           ['conv2d_52[0][0]']              \n",
            " )                                                                                                \n",
            "                                                                                                  \n",
            " conv2d_53 (Conv2D)             (None, 7, 7, 8)      584         ['max_pooling2d_34[0][0]']       \n",
            "                                                                                                  \n",
            " max_pooling2d_35 (MaxPooling2D  (None, 4, 4, 8)     0           ['conv2d_53[0][0]']              \n",
            " )                                                                                                \n",
            "                                                                                                  \n",
            " flatten_11 (Flatten)           (None, 128)          0           ['max_pooling2d_35[0][0]']       \n",
            "                                                                                                  \n",
            " dense_10 (Dense)               (None, 128)          16512       ['flatten_11[0][0]']             \n",
            "                                                                                                  \n",
            " z_mean (Dense)                 (None, 128)          16512       ['dense_10[0][0]']               \n",
            "                                                                                                  \n",
            " z_log_var (Dense)              (None, 128)          16512       ['dense_10[0][0]']               \n",
            "                                                                                                  \n",
            " sampling_9 (Sampling)          (None, 128)          0           ['z_mean[0][0]',                 \n",
            "                                                                  'z_log_var[0][0]']              \n",
            "                                                                                                  \n",
            "==================================================================================================\n",
            "Total params: 51,440\n",
            "Trainable params: 51,440\n",
            "Non-trainable params: 0\n",
            "__________________________________________________________________________________________________\n",
            "Model: \"decoder\"\n",
            "_________________________________________________________________\n",
            " Layer (type)                Output Shape              Param #   \n",
            "=================================================================\n",
            " input_21 (InputLayer)       [(None, 128)]             0         \n",
            "                                                                 \n",
            " reshape_5 (Reshape)         (None, 4, 4, 8)           0         \n",
            "                                                                 \n",
            " conv2d_54 (Conv2D)          (None, 4, 4, 8)           584       \n",
            "                                                                 \n",
            " up_sampling2d_12 (UpSamplin  (None, 8, 8, 8)          0         \n",
            " g2D)                                                            \n",
            "                                                                 \n",
            " conv2d_55 (Conv2D)          (None, 8, 8, 8)           584       \n",
            "                                                                 \n",
            " up_sampling2d_13 (UpSamplin  (None, 16, 16, 8)        0         \n",
            " g2D)                                                            \n",
            "                                                                 \n",
            " conv2d_56 (Conv2D)          (None, 14, 14, 16)        1168      \n",
            "                                                                 \n",
            " up_sampling2d_14 (UpSamplin  (None, 28, 28, 16)       0         \n",
            " g2D)                                                            \n",
            "                                                                 \n",
            " conv2d_57 (Conv2D)          (None, 28, 28, 1)         145       \n",
            "                                                                 \n",
            "=================================================================\n",
            "Total params: 2,481\n",
            "Trainable params: 2,481\n",
            "Non-trainable params: 0\n",
            "_________________________________________________________________\n",
            "Epoch 1/50\n",
            "469/469 [==============================] - 17s 9ms/step - loss: 385.2832 - reconstruction_loss: 310.3426 - kl_loss: 26.8019\n",
            "Epoch 2/50\n",
            "469/469 [==============================] - 4s 10ms/step - loss: 296.9397 - reconstruction_loss: 266.8881 - kl_loss: 25.1080\n",
            "Epoch 3/50\n",
            "469/469 [==============================] - 3s 7ms/step - loss: 281.4443 - reconstruction_loss: 256.1022 - kl_loss: 23.5693\n",
            "Epoch 4/50\n",
            "469/469 [==============================] - 3s 6ms/step - loss: 275.2698 - reconstruction_loss: 251.1313 - kl_loss: 22.5077\n",
            "Epoch 5/50\n",
            "469/469 [==============================] - 3s 7ms/step - loss: 270.2284 - reconstruction_loss: 247.8092 - kl_loss: 21.6112\n",
            "Epoch 6/50\n",
            "469/469 [==============================] - 3s 6ms/step - loss: 267.1967 - reconstruction_loss: 245.6434 - kl_loss: 21.1726\n",
            "Epoch 7/50\n",
            "469/469 [==============================] - 3s 6ms/step - loss: 265.2293 - reconstruction_loss: 244.0774 - kl_loss: 20.9751\n",
            "Epoch 8/50\n",
            "469/469 [==============================] - 3s 7ms/step - loss: 263.9371 - reconstruction_loss: 242.9684 - kl_loss: 20.9671\n",
            "Epoch 9/50\n",
            "469/469 [==============================] - 4s 8ms/step - loss: 263.2983 - reconstruction_loss: 242.2094 - kl_loss: 20.9750\n",
            "Epoch 10/50\n",
            "469/469 [==============================] - 4s 9ms/step - loss: 263.5425 - reconstruction_loss: 241.5663 - kl_loss: 20.9677\n",
            "Epoch 11/50\n",
            "469/469 [==============================] - 3s 6ms/step - loss: 262.3956 - reconstruction_loss: 241.0161 - kl_loss: 21.0157\n",
            "Epoch 12/50\n",
            "469/469 [==============================] - 3s 6ms/step - loss: 262.0354 - reconstruction_loss: 240.6639 - kl_loss: 21.0364\n",
            "Epoch 13/50\n",
            "469/469 [==============================] - 4s 9ms/step - loss: 262.1270 - reconstruction_loss: 240.2841 - kl_loss: 21.1063\n",
            "Epoch 14/50\n",
            "469/469 [==============================] - 4s 8ms/step - loss: 260.6574 - reconstruction_loss: 239.9377 - kl_loss: 21.0611\n",
            "Epoch 15/50\n",
            "469/469 [==============================] - 3s 6ms/step - loss: 260.6560 - reconstruction_loss: 239.6915 - kl_loss: 21.0850\n",
            "Epoch 16/50\n",
            "469/469 [==============================] - 3s 6ms/step - loss: 260.6096 - reconstruction_loss: 239.4198 - kl_loss: 21.1254\n",
            "Epoch 17/50\n",
            "469/469 [==============================] - 4s 8ms/step - loss: 260.4621 - reconstruction_loss: 239.1642 - kl_loss: 21.1351\n",
            "Epoch 18/50\n",
            "469/469 [==============================] - 3s 6ms/step - loss: 259.9449 - reconstruction_loss: 239.0522 - kl_loss: 21.1529\n",
            "Epoch 19/50\n",
            "469/469 [==============================] - 3s 6ms/step - loss: 259.8103 - reconstruction_loss: 238.8194 - kl_loss: 21.1351\n",
            "Epoch 20/50\n",
            "469/469 [==============================] - 3s 6ms/step - loss: 260.3119 - reconstruction_loss: 238.6641 - kl_loss: 21.1876\n",
            "Epoch 21/50\n",
            "469/469 [==============================] - 3s 6ms/step - loss: 259.3589 - reconstruction_loss: 238.4720 - kl_loss: 21.1947\n",
            "Epoch 22/50\n",
            "469/469 [==============================] - 3s 6ms/step - loss: 259.3520 - reconstruction_loss: 238.3226 - kl_loss: 21.1811\n",
            "Epoch 23/50\n",
            "469/469 [==============================] - 3s 6ms/step - loss: 259.3817 - reconstruction_loss: 238.1959 - kl_loss: 21.2036\n",
            "Epoch 24/50\n",
            "469/469 [==============================] - 3s 6ms/step - loss: 258.9058 - reconstruction_loss: 238.0799 - kl_loss: 21.1768\n",
            "Epoch 25/50\n",
            "469/469 [==============================] - 3s 6ms/step - loss: 259.5844 - reconstruction_loss: 237.9498 - kl_loss: 21.2078\n",
            "Epoch 26/50\n",
            "469/469 [==============================] - 3s 6ms/step - loss: 259.6965 - reconstruction_loss: 237.8883 - kl_loss: 21.1993\n",
            "Epoch 27/50\n",
            "469/469 [==============================] - 3s 6ms/step - loss: 258.4892 - reconstruction_loss: 237.7404 - kl_loss: 21.2606\n",
            "Epoch 28/50\n",
            "469/469 [==============================] - 3s 6ms/step - loss: 259.2272 - reconstruction_loss: 237.5985 - kl_loss: 21.2376\n",
            "Epoch 29/50\n",
            "469/469 [==============================] - 3s 6ms/step - loss: 258.7559 - reconstruction_loss: 237.5050 - kl_loss: 21.2400\n",
            "Epoch 30/50\n",
            "469/469 [==============================] - 3s 6ms/step - loss: 258.9506 - reconstruction_loss: 237.5407 - kl_loss: 21.2473\n",
            "Epoch 31/50\n",
            "469/469 [==============================] - 3s 6ms/step - loss: 258.2112 - reconstruction_loss: 237.3525 - kl_loss: 21.2477\n",
            "Epoch 32/50\n",
            "469/469 [==============================] - 3s 6ms/step - loss: 258.6393 - reconstruction_loss: 237.3079 - kl_loss: 21.2790\n",
            "Epoch 33/50\n",
            "469/469 [==============================] - 3s 6ms/step - loss: 258.1789 - reconstruction_loss: 237.1595 - kl_loss: 21.2851\n",
            "Epoch 34/50\n",
            "469/469 [==============================] - 3s 6ms/step - loss: 258.7494 - reconstruction_loss: 237.1912 - kl_loss: 21.2636\n",
            "Epoch 35/50\n",
            "469/469 [==============================] - 3s 7ms/step - loss: 258.5861 - reconstruction_loss: 237.0843 - kl_loss: 21.2707\n",
            "Epoch 36/50\n",
            "469/469 [==============================] - 3s 6ms/step - loss: 258.7777 - reconstruction_loss: 237.0122 - kl_loss: 21.2509\n",
            "Epoch 37/50\n",
            "469/469 [==============================] - 3s 6ms/step - loss: 257.9470 - reconstruction_loss: 236.8815 - kl_loss: 21.2849\n",
            "Epoch 38/50\n",
            "469/469 [==============================] - 3s 6ms/step - loss: 257.6978 - reconstruction_loss: 236.8403 - kl_loss: 21.2851\n",
            "Epoch 39/50\n",
            "469/469 [==============================] - 3s 6ms/step - loss: 257.6469 - reconstruction_loss: 236.8089 - kl_loss: 21.3121\n",
            "Epoch 40/50\n",
            "469/469 [==============================] - 3s 6ms/step - loss: 257.9926 - reconstruction_loss: 236.7463 - kl_loss: 21.3071\n",
            "Epoch 41/50\n",
            "469/469 [==============================] - 3s 6ms/step - loss: 258.0842 - reconstruction_loss: 236.6481 - kl_loss: 21.2874\n",
            "Epoch 42/50\n",
            "469/469 [==============================] - 3s 6ms/step - loss: 257.9792 - reconstruction_loss: 236.6044 - kl_loss: 21.3118\n",
            "Epoch 43/50\n",
            "469/469 [==============================] - 3s 6ms/step - loss: 257.8620 - reconstruction_loss: 236.5070 - kl_loss: 21.3309\n",
            "Epoch 44/50\n",
            "469/469 [==============================] - 3s 6ms/step - loss: 257.6364 - reconstruction_loss: 236.4695 - kl_loss: 21.3031\n",
            "Epoch 45/50\n",
            "469/469 [==============================] - 3s 6ms/step - loss: 258.0131 - reconstruction_loss: 236.4270 - kl_loss: 21.3550\n",
            "Epoch 46/50\n",
            "469/469 [==============================] - 3s 6ms/step - loss: 257.1561 - reconstruction_loss: 236.3799 - kl_loss: 21.3295\n",
            "Epoch 47/50\n",
            "469/469 [==============================] - 3s 6ms/step - loss: 257.6236 - reconstruction_loss: 236.3639 - kl_loss: 21.3401\n",
            "Epoch 48/50\n",
            "469/469 [==============================] - 3s 6ms/step - loss: 257.3941 - reconstruction_loss: 236.2781 - kl_loss: 21.3656\n",
            "Epoch 49/50\n",
            "469/469 [==============================] - 3s 6ms/step - loss: 257.9093 - reconstruction_loss: 236.1879 - kl_loss: 21.3677\n",
            "Epoch 50/50\n",
            "469/469 [==============================] - 3s 6ms/step - loss: 257.6464 - reconstruction_loss: 236.2278 - kl_loss: 21.3781\n"
          ]
        },
        {
          "output_type": "execute_result",
          "data": {
            "text/plain": [
              "<keras.callbacks.History at 0x7f2c460d10d0>"
            ]
          },
          "metadata": {},
          "execution_count": 28
        }
      ]
    },
    {
      "cell_type": "code",
      "source": [
        "decoded_imgs = vae.call(x_test)\n",
        "decoderd_imgs = decoded_imgs.reshape(decoded_imgs.shape[0], 28, 28).astype('float32')\n",
        "n = 6\n",
        "plt.figure(figsize=(20, 7))\n",
        "for i in range(1, n + 1):\n",
        "    # Display original\n",
        "    ax = plt.subplot(2, n, i)\n",
        "    plt.imshow(x_test[i].reshape(28, 28))\n",
        "    plt.gray()\n",
        "    ax.get_xaxis().set_visible(False)\n",
        "    ax.get_yaxis().set_visible(False)\n",
        "\n",
        "    # Display reconstruction\n",
        "    ax = plt.subplot(2, n, i + n)\n",
        "    plt.imshow(decoded_imgs[i].reshape(28, 28))\n",
        "    plt.gray()\n",
        "    ax.get_xaxis().set_visible(False)\n",
        "    ax.get_yaxis().set_visible(False)\n",
        "plt.show()"
      ],
      "metadata": {
        "colab": {
          "base_uri": "https://localhost:8080/",
          "height": 401
        },
        "id": "TtMj1rJUl9C0",
        "outputId": "ef8d2157-e6aa-4cff-c4ce-1b74be1d89ea"
      },
      "execution_count": 31,
      "outputs": [
        {
          "output_type": "display_data",
          "data": {
            "text/plain": [
              "<Figure size 1440x504 with 12 Axes>"
            ],
            "image/png": "[encoded data removed]"
          },
          "metadata": {
            "needs_background": "light"
          }
        }
      ]
    }
  ]
}